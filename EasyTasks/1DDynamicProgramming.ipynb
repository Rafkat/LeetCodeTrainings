{
 "cells": [
  {
   "metadata": {},
   "cell_type": "code",
   "outputs": [],
   "execution_count": null,
   "source": "from typing import List, Optional",
   "id": "5fad2feed94803da"
  },
  {
   "metadata": {},
   "cell_type": "markdown",
   "source": [
    "# 70. Climbing Stairs\n",
    "\n",
    "You are climbing a staircase. It takes n steps to reach the top.\n",
    "\n",
    "Each time you can either climb 1 or 2 steps. In how many distinct ways can you climb to the top?\n",
    "\n",
    " \n",
    "\n",
    "Example 1:\n",
    "```\n",
    "Input: n = 2\n",
    "Output: 2\n",
    "```\n",
    "Explanation: There are two ways to climb to the top.\n",
    "1. 1 step + 1 step\n",
    "2. 2 steps\n",
    "Example 2:\n",
    "```\n",
    "Input: n = 3\n",
    "Output: 3\n",
    "```\n",
    "Explanation: There are three ways to climb to the top.\n",
    "1. 1 step + 1 step + 1 step\n",
    "2. 1 step + 2 steps\n",
    "3. 2 steps + 1 step\n",
    " \n",
    "\n",
    "Constraints:\n",
    "```\n",
    "1 <= n <= 45\n",
    "```"
   ],
   "id": "33241f322f75dad0"
  },
  {
   "metadata": {
    "ExecuteTime": {
     "end_time": "2025-01-27T10:40:30.791799Z",
     "start_time": "2025-01-27T10:40:30.789225Z"
    }
   },
   "cell_type": "code",
   "source": [
    "def climbStairs(n: int) -> int:\n",
    "    if n <= 3:\n",
    "        return n\n",
    "\n",
    "    prev1 = 3\n",
    "    prev2 = 2\n",
    "    cur = 0\n",
    "\n",
    "    for _ in range(3, n):\n",
    "        cur = prev1 + prev2\n",
    "        prev2 = prev1\n",
    "        prev1 = cur\n",
    "\n",
    "    return cur"
   ],
   "id": "ea1fa32a0c514ad7",
   "outputs": [],
   "execution_count": 23
  },
  {
   "metadata": {},
   "cell_type": "code",
   "outputs": [],
   "execution_count": null,
   "source": "",
   "id": "6cb9c9b5f82e6903"
  }
 ],
 "metadata": {
  "kernelspec": {
   "display_name": "Python 3",
   "language": "python",
   "name": "python3"
  },
  "language_info": {
   "codemirror_mode": {
    "name": "ipython",
    "version": 2
   },
   "file_extension": ".py",
   "mimetype": "text/x-python",
   "name": "python",
   "nbconvert_exporter": "python",
   "pygments_lexer": "ipython2",
   "version": "2.7.6"
  }
 },
 "nbformat": 4,
 "nbformat_minor": 5
}
