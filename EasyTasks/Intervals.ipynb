{
 "cells": [
  {
   "metadata": {},
   "cell_type": "code",
   "outputs": [],
   "execution_count": null,
   "source": "from typing import List, Optional",
   "id": "738b14d2f31badd7"
  },
  {
   "metadata": {},
   "cell_type": "markdown",
   "source": [
    "# 228. Summary Ranges\n",
    "\n",
    "You are given a sorted unique integer array nums.\n",
    "\n",
    "A range [a,b] is the set of all integers from a to b (inclusive).\n",
    "\n",
    "Return the smallest sorted list of ranges that cover all the numbers in the array exactly. That is, each element of nums is covered by exactly one of the ranges, and there is no integer x such that x is in one of the ranges but not in nums.\n",
    "\n",
    "Each range [a,b] in the list should be output as:\n",
    "```\n",
    "\"a->b\" if a != b\n",
    "\"a\" if a == b\n",
    "```\n",
    "\n",
    "Example 1:\n",
    "```\n",
    "Input: nums = [0,1,2,4,5,7]\n",
    "Output: [\"0->2\",\"4->5\",\"7\"]\n",
    "Explanation: The ranges are:\n",
    "[0,2] --> \"0->2\"\n",
    "[4,5] --> \"4->5\"\n",
    "[7,7] --> \"7\"\n",
    "```\n",
    "Example 2:\n",
    "```\n",
    "Input: nums = [0,2,3,4,6,8,9]\n",
    "Output: [\"0\",\"2->4\",\"6\",\"8->9\"]\n",
    "Explanation: The ranges are:\n",
    "[0,0] --> \"0\"\n",
    "[2,4] --> \"2->4\"\n",
    "[6,6] --> \"6\"\n",
    "[8,9] --> \"8->9\"\n",
    "```\n",
    "\n",
    "Constraints:\n",
    "```\n",
    "0 <= nums.length <= 20\n",
    "-231 <= nums[i] <= 231 - 1\n",
    "```\n",
    "All the values of nums are unique.\n",
    "nums is sorted in ascending order."
   ],
   "id": "948368d16e28996d"
  },
  {
   "metadata": {},
   "cell_type": "code",
   "outputs": [],
   "execution_count": null,
   "source": [
    "def summaryRanges(nums: List[int]) -> List[str]:\n",
    "    result = []\n",
    "    i = 0\n",
    "    j = 1\n",
    "\n",
    "    if not nums:\n",
    "        return []\n",
    "\n",
    "    while j < len(nums):\n",
    "        if nums[j] - nums[i] > j - i:\n",
    "            if nums[j - 1] != nums[i]:\n",
    "                result.append(f\"{nums[i]}->{nums[j - 1]}\")\n",
    "            else:\n",
    "                result.append(f\"{nums[j - 1]}\")\n",
    "            i = j\n",
    "        j += 1\n",
    "    else:\n",
    "        if (j - 1) - i > 0:\n",
    "            result.append(f\"{nums[i]}->{nums[j - 1]}\")\n",
    "        else:\n",
    "            result.append(f\"{nums[j - 1]}\")\n",
    "    return result\n"
   ],
   "id": "229cb8ef1975b785"
  }
 ],
 "metadata": {
  "kernelspec": {
   "display_name": "Python 3",
   "language": "python",
   "name": "python3"
  },
  "language_info": {
   "codemirror_mode": {
    "name": "ipython",
    "version": 2
   },
   "file_extension": ".py",
   "mimetype": "text/x-python",
   "name": "python",
   "nbconvert_exporter": "python",
   "pygments_lexer": "ipython2",
   "version": "2.7.6"
  }
 },
 "nbformat": 4,
 "nbformat_minor": 5
}
