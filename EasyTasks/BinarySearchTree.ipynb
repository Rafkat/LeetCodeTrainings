{
 "cells": [
  {
   "metadata": {},
   "cell_type": "code",
   "outputs": [],
   "execution_count": null,
   "source": "from typing import List, Optional",
   "id": "225719835c0012e0"
  },
  {
   "metadata": {},
   "cell_type": "markdown",
   "source": [
    "# 530. Minimum Absolute Difference\n",
    "\n",
    "Given the root of a Binary Search Tree (BST), return the minimum absolute difference between the values of any two different nodes in the tree.\n",
    "\n",
    " \n",
    "\n",
    "Example 1:\n",
    "\n",
    "```\n",
    "Input: root = [4,2,6,1,3]\n",
    "Output: 1\n",
    "```\n",
    "Example 2:\n",
    "\n",
    "```\n",
    "Input: root = [1,0,48,null,null,12,49]\n",
    "Output: 1\n",
    "```\n",
    "\n",
    "Constraints:\n",
    "```\n",
    "The number of nodes in the tree is in the range [2, 104].\n",
    "0 <= Node.val <= 105\n",
    "```"
   ],
   "id": "779700dd3b6df37b"
  },
  {
   "metadata": {},
   "cell_type": "code",
   "outputs": [],
   "execution_count": null,
   "source": [
    "def getMinimumDifference(root: Optional[TreeNode]) -> int:\n",
    "    cur, stack, minDiff, prev = root, [], 10 ** 5, -10 ** 5\n",
    "\n",
    "    while stack or cur:\n",
    "        while cur:\n",
    "            stack.append(cur)\n",
    "            cur = cur.left\n",
    "        node = stack.pop()\n",
    "        minDiff = min(minDiff, node.val - prev)\n",
    "        prev = node.val\n",
    "        cur = node.right\n",
    "\n",
    "    return minDiff"
   ],
   "id": "bf2427cde65508b7"
  }
 ],
 "metadata": {
  "kernelspec": {
   "display_name": "Python 3",
   "language": "python",
   "name": "python3"
  },
  "language_info": {
   "codemirror_mode": {
    "name": "ipython",
    "version": 2
   },
   "file_extension": ".py",
   "mimetype": "text/x-python",
   "name": "python",
   "nbconvert_exporter": "python",
   "pygments_lexer": "ipython2",
   "version": "2.7.6"
  }
 },
 "nbformat": 4,
 "nbformat_minor": 5
}
