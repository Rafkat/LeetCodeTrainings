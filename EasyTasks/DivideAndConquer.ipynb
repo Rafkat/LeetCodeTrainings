{
 "cells": [
  {
   "metadata": {},
   "cell_type": "code",
   "outputs": [],
   "execution_count": null,
   "source": "from typing import List, Optional",
   "id": "6e6a842f8120f405"
  },
  {
   "metadata": {},
   "cell_type": "markdown",
   "source": [
    "#  108. Convert Sorted Array to Binary Search Tree\n",
    "\n",
    "Given an integer array nums where the elements are sorted in ascending order, convert it to a \n",
    "height-balanced\n",
    " binary search tree.\n",
    "\n",
    " \n",
    "\n",
    "Example 1:\n",
    "\n",
    "```\n",
    "Input: nums = [-10,-3,0,5,9]\n",
    "Output: [0,-3,9,-10,null,5]\n",
    "```\n",
    "Explanation: [0,-10,5,null,-3,null,9] is also accepted:\n",
    "\n",
    "Example 2:\n",
    "\n",
    "```\n",
    "Input: nums = [1,3]\n",
    "Output: [3,1]\n",
    "```\n",
    "Explanation: [1,null,3] and [3,1] are both height-balanced BSTs.\n",
    " \n",
    "\n",
    "Constraints:\n",
    "```\n",
    "1 <= nums.length <= 104\n",
    "-104 <= nums[i] <= 104\n",
    "```\n",
    "nums is sorted in a strictly increasing order."
   ],
   "id": "2a90282fe39a3f87"
  },
  {
   "metadata": {},
   "cell_type": "code",
   "outputs": [],
   "execution_count": null,
   "source": [
    "def sortedArrayToBST(nums: List[int]) -> Optional[TreeNode]:\n",
    "    total_nums = len(nums)\n",
    "    if not total_nums:\n",
    "        return None\n",
    "\n",
    "    mid_node = total_nums // 2\n",
    "    return TreeNode(\n",
    "        nums[mid_node],\n",
    "        sortedArrayToBST(nums[:mid_node]),\n",
    "        sortedArrayToBST(nums[(mid_node + 1):])\n",
    "    )"
   ],
   "id": "bfd6996ca1c628dc"
  }
 ],
 "metadata": {
  "kernelspec": {
   "display_name": "Python 3",
   "language": "python",
   "name": "python3"
  },
  "language_info": {
   "codemirror_mode": {
    "name": "ipython",
    "version": 2
   },
   "file_extension": ".py",
   "mimetype": "text/x-python",
   "name": "python",
   "nbconvert_exporter": "python",
   "pygments_lexer": "ipython2",
   "version": "2.7.6"
  }
 },
 "nbformat": 4,
 "nbformat_minor": 5
}
