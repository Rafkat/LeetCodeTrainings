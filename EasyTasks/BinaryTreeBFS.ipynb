{
 "cells": [
  {
   "metadata": {},
   "cell_type": "code",
   "outputs": [],
   "execution_count": null,
   "source": "from typing import List, Optional",
   "id": "6f65d899113d1217"
  },
  {
   "metadata": {},
   "cell_type": "markdown",
   "source": [
    "# 637. Average of Levels in Binary Tree\n",
    "\n",
    "Given the root of a binary tree, return the average value of the nodes on each level in the form of an array. Answers within 10-5 of the actual answer will be accepted.\n",
    " \n",
    "\n",
    "Example 1:\n",
    "\n",
    "```\n",
    "Input: root = [3,9,20,null,null,15,7]\n",
    "Output: [3.00000,14.50000,11.00000]\n",
    "```\n",
    "Explanation: The average value of nodes on level 0 is 3, on level 1 is 14.5, and on level 2 is 11.\n",
    "Hence return [3, 14.5, 11].\n",
    "Example 2:\n",
    "\n",
    "```\n",
    "Input: root = [3,9,20,15,7]\n",
    "Output: [3.00000,14.50000,11.00000]\n",
    "```\n",
    "\n",
    "Constraints:\n",
    "```\n",
    "The number of nodes in the tree is in the range [1, 104].\n",
    "-231 <= Node.val <= 231 - 1\n",
    "```"
   ],
   "id": "ff3129c4e4111fe2"
  },
  {
   "metadata": {},
   "cell_type": "code",
   "outputs": [],
   "execution_count": null,
   "source": [
    "def averageOfLevels(root: Optional[TreeNode]) -> List[float]:\n",
    "    deq = deque()\n",
    "    deq.append(root)\n",
    "    average_values = []\n",
    "    while deq:\n",
    "        average = 0\n",
    "        deq_len = len(deq)\n",
    "        for _ in range(deq_len):\n",
    "            node = deq.popleft()\n",
    "            average += node.val\n",
    "            if node.left:\n",
    "                deq.append(node.left)\n",
    "            if node.right:\n",
    "                deq.append(node.right)\n",
    "        average_values.append(average / deq_len)\n",
    "    return average_values"
   ],
   "id": "e09d4fab2e726aad"
  }
 ],
 "metadata": {
  "kernelspec": {
   "display_name": "Python 3",
   "language": "python",
   "name": "python3"
  },
  "language_info": {
   "codemirror_mode": {
    "name": "ipython",
    "version": 2
   },
   "file_extension": ".py",
   "mimetype": "text/x-python",
   "name": "python",
   "nbconvert_exporter": "python",
   "pygments_lexer": "ipython2",
   "version": "2.7.6"
  }
 },
 "nbformat": 4,
 "nbformat_minor": 5
}
