{
 "cells": [
  {
   "metadata": {},
   "cell_type": "code",
   "outputs": [],
   "execution_count": null,
   "source": "from typing import List, Optional",
   "id": "2fd1a87d2d0c37d1"
  },
  {
   "metadata": {},
   "cell_type": "markdown",
   "source": [
    "# 125. Valid Palindrome\n",
    "\n",
    "A phrase is a palindrome if, after converting all uppercase letters into lowercase letters and removing all non-alphanumeric characters, it reads the same forward and backward. Alphanumeric characters include letters and numbers.\n",
    "\n",
    "Given a string s, return true if it is a palindrome, or false otherwise.\n",
    "\n",
    " \n",
    "\n",
    "Example 1:\n",
    "```\n",
    "Input: s = \"A man, a plan, a canal: Panama\"\n",
    "Output: true\n",
    "```\n",
    "Explanation: \"amanaplanacanalpanama\" is a palindrome.\n",
    "Example 2:\n",
    "```\n",
    "Input: s = \"race a car\"\n",
    "Output: false\n",
    "```\n",
    "Explanation: \"raceacar\" is not a palindrome.\n",
    "Example 3:\n",
    "```\n",
    "Input: s = \" \"\n",
    "Output: true\n",
    "```\n",
    "Explanation: s is an empty string \"\" after removing non-alphanumeric characters.\n",
    "Since an empty string reads the same forward and backward, it is a palindrome.\n",
    " \n",
    "\n",
    "Constraints:\n",
    "```\n",
    "1 <= s.length <= 2 * 105\n",
    "```\n",
    "s consists only of printable ASCII characters."
   ],
   "id": "1eefa20fcab4dfce"
  },
  {
   "metadata": {},
   "cell_type": "code",
   "outputs": [],
   "execution_count": 8,
   "source": [
    "def isPalindrome(s: str) -> bool:\n",
    "    valid_s = ''.join(char for char in s if char.isalnum()).lower()\n",
    "    if valid_s == valid_s[::-1] or valid_s == '':\n",
    "        return True\n",
    "    else:\n",
    "        return False"
   ],
   "id": "868bd4e83d0fb385"
  },
  {
   "metadata": {},
   "cell_type": "markdown",
   "source": [
    "# 392. Is Subsequence\n",
    "\n",
    "Given two strings s and t, return true if s is a subsequence of t, or false otherwise.\n",
    "\n",
    "A subsequence of a string is a new string that is formed from the original string by deleting some (can be none) of the characters without disturbing the relative positions of the remaining characters. (i.e., \"ace\" is a subsequence of \"abcde\" while \"aec\" is not).\n",
    "\n",
    " \n",
    "\n",
    "Example 1:\n",
    "```\n",
    "Input: s = \"abc\", t = \"ahbgdc\"\n",
    "Output: true\n",
    "```\n",
    "Example 2:\n",
    "```\n",
    "Input: s = \"axc\", t = \"ahbgdc\"\n",
    "Output: false\n",
    "```\n",
    " \n",
    "\n",
    "Constraints:\n",
    "```\n",
    "0 <= s.length <= 100\n",
    "0 <= t.length <= 104\n",
    "```\n",
    "s and t consist only of lowercase English letters.\n",
    " \n",
    "\n",
    "Follow up: Suppose there are lots of incoming s, say s1, s2, ..., sk where k >= 109, and you want to check one by one to see if t has its subsequence. In this scenario, how would you change your code?"
   ],
   "id": "343d0ff82a3f28a0"
  },
  {
   "metadata": {},
   "cell_type": "code",
   "outputs": [],
   "execution_count": null,
   "source": [
    "def isSubsequence(s: str, t: str) -> bool:\n",
    "    s_idx = 0\n",
    "    t_idx = 0\n",
    "\n",
    "    if not s:\n",
    "        return True\n",
    "\n",
    "    s_len = len(s)\n",
    "    t_len = len(t)\n",
    "\n",
    "    while t_idx < t_len and s_idx < s_len:\n",
    "        if t[t_idx] == s[s_idx]:\n",
    "            s_idx += 1\n",
    "        t_idx += 1\n",
    "\n",
    "    return s_idx == s_len"
   ],
   "id": "5b2df994ae200c43"
  }
 ],
 "metadata": {
  "kernelspec": {
   "display_name": "Python 3",
   "language": "python",
   "name": "python3"
  },
  "language_info": {
   "codemirror_mode": {
    "name": "ipython",
    "version": 2
   },
   "file_extension": ".py",
   "mimetype": "text/x-python",
   "name": "python",
   "nbconvert_exporter": "python",
   "pygments_lexer": "ipython2",
   "version": "2.7.6"
  }
 },
 "nbformat": 4,
 "nbformat_minor": 5
}
